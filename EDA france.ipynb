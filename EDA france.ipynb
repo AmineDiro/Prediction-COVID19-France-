{
 "cells": [
  {
   "cell_type": "code",
   "execution_count": 4,
   "metadata": {
    "ExecuteTime": {
     "end_time": "2020-03-19T12:51:06.207784Z",
     "start_time": "2020-03-19T12:51:06.202849Z"
    }
   },
   "outputs": [],
   "source": [
    "import numpy as np\n",
    "import pandas as pd\n",
    "import matplotlib.pyplot as plt\n",
    "import seaborn as sns\n",
    "\n",
    "pd.set_option(\"display.max_columns\", None)\n",
    "pd.set_option(\"display.max_rows\", None)\n",
    "%matplotlib inline"
   ]
  },
  {
   "cell_type": "markdown",
   "metadata": {
    "heading_collapsed": true,
    "toc-hr-collapsed": false
   },
   "source": [
    "# Chiffre clé COVID 19"
   ]
  },
  {
   "cell_type": "code",
   "execution_count": 5,
   "metadata": {
    "ExecuteTime": {
     "end_time": "2020-03-18T21:41:59.458843Z",
     "start_time": "2020-03-18T21:41:59.439619Z"
    },
    "hidden": true
   },
   "outputs": [],
   "source": [
    "chiffre_france = pd.read_csv(\"Data/chiffres-cles.csv\")\n",
    "\n",
    "chiffre_france[\"date\"] = pd.to_datetime(chiffre_france[\"date\"])\n",
    "\n",
    "chiffre_france.sort_values(\"date\", inplace=True)"
   ]
  },
  {
   "cell_type": "code",
   "execution_count": 6,
   "metadata": {
    "ExecuteTime": {
     "end_time": "2020-03-18T21:41:59.474246Z",
     "start_time": "2020-03-18T21:41:59.460977Z"
    },
    "hidden": true
   },
   "outputs": [
    {
     "data": {
      "text/plain": [
       "array(['COM-977', 'COM-978', 'DEP-01', 'DEP-02', 'DEP-03', 'DEP-04',\n",
       "       'DEP-05', 'DEP-06', 'DEP-07', 'DEP-08', 'DEP-10', 'DEP-11',\n",
       "       'DEP-12', 'DEP-13', 'DEP-14', 'DEP-18', 'DEP-21', 'DEP-22',\n",
       "       'DEP-24', 'DEP-25', 'DEP-26', 'DEP-27', 'DEP-28', 'DEP-29',\n",
       "       'DEP-2B', 'DEP-30', 'DEP-31', 'DEP-32', 'DEP-34', 'DEP-35',\n",
       "       'DEP-36', 'DEP-37', 'DEP-38', 'DEP-39', 'DEP-41', 'DEP-42',\n",
       "       'DEP-43', 'DEP-44', 'DEP-45', 'DEP-46', 'DEP-48', 'DEP-49',\n",
       "       'DEP-50', 'DEP-51', 'DEP-52', 'DEP-53', 'DEP-54', 'DEP-55',\n",
       "       'DEP-56', 'DEP-57', 'DEP-58', 'DEP-59', 'DEP-60', 'DEP-61',\n",
       "       'DEP-62', 'DEP-63', 'DEP-65', 'DEP-66', 'DEP-67', 'DEP-68',\n",
       "       'DEP-69', 'DEP-70', 'DEP-71', 'DEP-72', 'DEP-73', 'DEP-74',\n",
       "       'DEP-75', 'DEP-76', 'DEP-77', 'DEP-78', 'DEP-80', 'DEP-81',\n",
       "       'DEP-82', 'DEP-83', 'DEP-84', 'DEP-85', 'DEP-88', 'DEP-89',\n",
       "       'DEP-91', 'DEP-92', 'DEP-93', 'DEP-94', 'DEP-95', 'FRA', 'REG-01',\n",
       "       'REG-02', 'REG-03', 'REG-04', 'REG-06', 'REG-11', 'REG-24',\n",
       "       'REG-27', 'REG-28', 'REG-32', 'REG-44', 'REG-52', 'REG-53',\n",
       "       'REG-75', 'REG-76', 'REG-84', 'REG-93', 'REG-94', 'WORLD'],\n",
       "      dtype=object)"
      ]
     },
     "execution_count": 6,
     "metadata": {},
     "output_type": "execute_result"
    }
   ],
   "source": [
    "chiffre_france.maille_code.sort_values().unique()"
   ]
  },
  {
   "cell_type": "code",
   "execution_count": 7,
   "metadata": {
    "ExecuteTime": {
     "end_time": "2020-03-18T21:42:00.536554Z",
     "start_time": "2020-03-18T21:42:00.513060Z"
    },
    "code_folding": [],
    "hidden": true
   },
   "outputs": [
    {
     "data": {
      "text/html": [
       "<div>\n",
       "<style scoped>\n",
       "    .dataframe tbody tr th:only-of-type {\n",
       "        vertical-align: middle;\n",
       "    }\n",
       "\n",
       "    .dataframe tbody tr th {\n",
       "        vertical-align: top;\n",
       "    }\n",
       "\n",
       "    .dataframe thead th {\n",
       "        text-align: right;\n",
       "    }\n",
       "</style>\n",
       "<table border=\"1\" class=\"dataframe\">\n",
       "  <thead>\n",
       "    <tr style=\"text-align: right;\">\n",
       "      <th></th>\n",
       "      <th>cas_confirmes</th>\n",
       "      <th>deces</th>\n",
       "      <th>ratio</th>\n",
       "    </tr>\n",
       "    <tr>\n",
       "      <th>date</th>\n",
       "      <th></th>\n",
       "      <th></th>\n",
       "      <th></th>\n",
       "    </tr>\n",
       "  </thead>\n",
       "  <tbody>\n",
       "    <tr>\n",
       "      <th>2020-03-04</th>\n",
       "      <td>285.0</td>\n",
       "      <td>4.0</td>\n",
       "      <td>0.014035</td>\n",
       "    </tr>\n",
       "    <tr>\n",
       "      <th>2020-03-05</th>\n",
       "      <td>423.0</td>\n",
       "      <td>5.0</td>\n",
       "      <td>0.011820</td>\n",
       "    </tr>\n",
       "    <tr>\n",
       "      <th>2020-03-06</th>\n",
       "      <td>613.0</td>\n",
       "      <td>9.0</td>\n",
       "      <td>0.014682</td>\n",
       "    </tr>\n",
       "    <tr>\n",
       "      <th>2020-03-07</th>\n",
       "      <td>949.0</td>\n",
       "      <td>11.0</td>\n",
       "      <td>0.011591</td>\n",
       "    </tr>\n",
       "    <tr>\n",
       "      <th>2020-03-08</th>\n",
       "      <td>1126.0</td>\n",
       "      <td>19.0</td>\n",
       "      <td>0.016874</td>\n",
       "    </tr>\n",
       "    <tr>\n",
       "      <th>2020-03-09</th>\n",
       "      <td>1412.0</td>\n",
       "      <td>30.0</td>\n",
       "      <td>0.021246</td>\n",
       "    </tr>\n",
       "    <tr>\n",
       "      <th>2020-03-10</th>\n",
       "      <td>1794.0</td>\n",
       "      <td>33.0</td>\n",
       "      <td>0.018395</td>\n",
       "    </tr>\n",
       "    <tr>\n",
       "      <th>2020-03-11</th>\n",
       "      <td>2281.0</td>\n",
       "      <td>48.0</td>\n",
       "      <td>0.021043</td>\n",
       "    </tr>\n",
       "    <tr>\n",
       "      <th>2020-03-12</th>\n",
       "      <td>2876.0</td>\n",
       "      <td>61.0</td>\n",
       "      <td>0.021210</td>\n",
       "    </tr>\n",
       "    <tr>\n",
       "      <th>2020-03-13</th>\n",
       "      <td>3661.0</td>\n",
       "      <td>79.0</td>\n",
       "      <td>0.021579</td>\n",
       "    </tr>\n",
       "    <tr>\n",
       "      <th>2020-03-14</th>\n",
       "      <td>4499.0</td>\n",
       "      <td>91.0</td>\n",
       "      <td>0.020227</td>\n",
       "    </tr>\n",
       "  </tbody>\n",
       "</table>\n",
       "</div>"
      ],
      "text/plain": [
       "            cas_confirmes  deces     ratio\n",
       "date                                      \n",
       "2020-03-04          285.0    4.0  0.014035\n",
       "2020-03-05          423.0    5.0  0.011820\n",
       "2020-03-06          613.0    9.0  0.014682\n",
       "2020-03-07          949.0   11.0  0.011591\n",
       "2020-03-08         1126.0   19.0  0.016874\n",
       "2020-03-09         1412.0   30.0  0.021246\n",
       "2020-03-10         1794.0   33.0  0.018395\n",
       "2020-03-11         2281.0   48.0  0.021043\n",
       "2020-03-12         2876.0   61.0  0.021210\n",
       "2020-03-13         3661.0   79.0  0.021579\n",
       "2020-03-14         4499.0   91.0  0.020227"
      ]
     },
     "execution_count": 7,
     "metadata": {},
     "output_type": "execute_result"
    }
   ],
   "source": [
    "deces = chiffre_france[chiffre_france[\"maille_nom\"] == \"France\"][[\n",
    "    \"date\", \"cas_confirmes\", \"deces\"\n",
    "]]\n",
    "deces.set_index(\"date\", inplace=True)\n",
    "\n",
    "deces[\"ratio\"] = deces.deces / deces.cas_confirmes\n",
    "deces"
   ]
  },
  {
   "cell_type": "code",
   "execution_count": 8,
   "metadata": {
    "ExecuteTime": {
     "end_time": "2020-03-18T21:42:00.720538Z",
     "start_time": "2020-03-18T21:42:00.712924Z"
    },
    "hidden": true
   },
   "outputs": [
    {
     "data": {
      "text/plain": [
       "1.7518399436916867"
      ]
     },
     "execution_count": 8,
     "metadata": {},
     "output_type": "execute_result"
    }
   ],
   "source": [
    "deces.ratio.mean() * 100"
   ]
  },
  {
   "cell_type": "markdown",
   "metadata": {
    "hidden": true
   },
   "source": [
    "La moyenne des pourcentage de décès par jour est à peu près de **1.75%.**"
   ]
  },
  {
   "cell_type": "code",
   "execution_count": 9,
   "metadata": {
    "ExecuteTime": {
     "end_time": "2020-03-18T21:42:01.248245Z",
     "start_time": "2020-03-18T21:42:01.044492Z"
    },
    "hidden": true
   },
   "outputs": [
    {
     "data": {
      "text/plain": [
       "<matplotlib.axes._subplots.AxesSubplot at 0x7f913e72f110>"
      ]
     },
     "execution_count": 9,
     "metadata": {},
     "output_type": "execute_result"
    },
    {
     "data": {
      "image/png": "[encoded data removed]",
      "text/plain": [
       "<Figure size 432x288 with 1 Axes>"
      ]
     },
     "metadata": {
      "needs_background": "light"
     },
     "output_type": "display_data"
    }
   ],
   "source": [
    "deces = chiffre_france[chiffre_france[\"maille_nom\"] == \"Monde\"][[\n",
    "    \"date\", \"cas_confirmes\", \"deces\"\n",
    "]]\n",
    "deces.set_index(\"date\", inplace=True)\n",
    "\n",
    "deces[\"ratio\"] = deces.deces / deces.cas_confirmes\n",
    "deces.ratio.plot()"
   ]
  },
  {
   "cell_type": "code",
   "execution_count": 10,
   "metadata": {
    "ExecuteTime": {
     "end_time": "2020-03-18T21:42:01.264835Z",
     "start_time": "2020-03-18T21:42:01.254048Z"
    },
    "hidden": true
   },
   "outputs": [
    {
     "data": {
      "text/html": [
       "<div>\n",
       "<style scoped>\n",
       "    .dataframe tbody tr th:only-of-type {\n",
       "        vertical-align: middle;\n",
       "    }\n",
       "\n",
       "    .dataframe tbody tr th {\n",
       "        vertical-align: top;\n",
       "    }\n",
       "\n",
       "    .dataframe thead th {\n",
       "        text-align: right;\n",
       "    }\n",
       "</style>\n",
       "<table border=\"1\" class=\"dataframe\">\n",
       "  <thead>\n",
       "    <tr style=\"text-align: right;\">\n",
       "      <th></th>\n",
       "      <th>cas_confirmes</th>\n",
       "      <th>deces</th>\n",
       "      <th>ratio</th>\n",
       "    </tr>\n",
       "    <tr>\n",
       "      <th>date</th>\n",
       "      <th></th>\n",
       "      <th></th>\n",
       "      <th></th>\n",
       "    </tr>\n",
       "  </thead>\n",
       "  <tbody>\n",
       "    <tr>\n",
       "      <th>2020-03-04</th>\n",
       "      <td>93076.0</td>\n",
       "      <td>3202.0</td>\n",
       "      <td>0.034402</td>\n",
       "    </tr>\n",
       "    <tr>\n",
       "      <th>2020-03-05</th>\n",
       "      <td>95315.0</td>\n",
       "      <td>3282.0</td>\n",
       "      <td>0.034433</td>\n",
       "    </tr>\n",
       "    <tr>\n",
       "      <th>2020-03-06</th>\n",
       "      <td>98171.0</td>\n",
       "      <td>3385.0</td>\n",
       "      <td>0.034481</td>\n",
       "    </tr>\n",
       "    <tr>\n",
       "      <th>2020-03-07</th>\n",
       "      <td>101855.0</td>\n",
       "      <td>3488.0</td>\n",
       "      <td>0.034245</td>\n",
       "    </tr>\n",
       "    <tr>\n",
       "      <th>2020-03-08</th>\n",
       "      <td>105828.0</td>\n",
       "      <td>3584.0</td>\n",
       "      <td>0.033866</td>\n",
       "    </tr>\n",
       "    <tr>\n",
       "      <th>2020-03-09</th>\n",
       "      <td>109695.0</td>\n",
       "      <td>3811.0</td>\n",
       "      <td>0.034742</td>\n",
       "    </tr>\n",
       "    <tr>\n",
       "      <th>2020-03-11</th>\n",
       "      <td>118628.0</td>\n",
       "      <td>4292.0</td>\n",
       "      <td>0.036180</td>\n",
       "    </tr>\n",
       "    <tr>\n",
       "      <th>2020-03-12</th>\n",
       "      <td>118628.0</td>\n",
       "      <td>4292.0</td>\n",
       "      <td>0.036180</td>\n",
       "    </tr>\n",
       "    <tr>\n",
       "      <th>2020-03-13</th>\n",
       "      <td>118628.0</td>\n",
       "      <td>4292.0</td>\n",
       "      <td>0.036180</td>\n",
       "    </tr>\n",
       "    <tr>\n",
       "      <th>2020-03-14</th>\n",
       "      <td>143247.0</td>\n",
       "      <td>5407.0</td>\n",
       "      <td>0.037746</td>\n",
       "    </tr>\n",
       "  </tbody>\n",
       "</table>\n",
       "</div>"
      ],
      "text/plain": [
       "            cas_confirmes   deces     ratio\n",
       "date                                       \n",
       "2020-03-04        93076.0  3202.0  0.034402\n",
       "2020-03-05        95315.0  3282.0  0.034433\n",
       "2020-03-06        98171.0  3385.0  0.034481\n",
       "2020-03-07       101855.0  3488.0  0.034245\n",
       "2020-03-08       105828.0  3584.0  0.033866\n",
       "2020-03-09       109695.0  3811.0  0.034742\n",
       "2020-03-11       118628.0  4292.0  0.036180\n",
       "2020-03-12       118628.0  4292.0  0.036180\n",
       "2020-03-13       118628.0  4292.0  0.036180\n",
       "2020-03-14       143247.0  5407.0  0.037746"
      ]
     },
     "execution_count": 10,
     "metadata": {},
     "output_type": "execute_result"
    }
   ],
   "source": [
    "deces"
   ]
  },
  {
   "cell_type": "markdown",
   "metadata": {
    "heading_collapsed": true,
    "hidden": true
   },
   "source": [
    "## Patient analysis for death"
   ]
  },
  {
   "cell_type": "code",
   "execution_count": 11,
   "metadata": {
    "ExecuteTime": {
     "end_time": "2020-03-18T21:42:01.532478Z",
     "start_time": "2020-03-18T21:42:01.513411Z"
    },
    "hidden": true
   },
   "outputs": [],
   "source": [
    "patient_list = pd.read_csv(\"Data/COVID19_line_list_data.csv\")\n",
    "patient_list[\"death\"].fillna(\"0\", inplace=True)"
   ]
  },
  {
   "cell_type": "code",
   "execution_count": 12,
   "metadata": {
    "ExecuteTime": {
     "end_time": "2020-03-18T21:42:01.658379Z",
     "start_time": "2020-03-18T21:42:01.649190Z"
    },
    "hidden": true
   },
   "outputs": [],
   "source": [
    "def is_dead(x):\n",
    "    if \"Death\" in str(x).split() or \"death\" in str(x).split():\n",
    "        return 1\n",
    "    return 0\n",
    "\n",
    "\n",
    "patient_list[\"is_dead\"] = patient_list[\"summary\"].apply(is_dead)"
   ]
  },
  {
   "cell_type": "code",
   "execution_count": 13,
   "metadata": {
    "ExecuteTime": {
     "end_time": "2020-03-18T21:42:02.502337Z",
     "start_time": "2020-03-18T21:42:02.307743Z"
    },
    "hidden": true
   },
   "outputs": [
    {
     "data": {
      "text/plain": [
       "<matplotlib.axes._subplots.AxesSubplot at 0x7f913b438510>"
      ]
     },
     "execution_count": 13,
     "metadata": {},
     "output_type": "execute_result"
    },
    {
     "data": {
      "image/png": "[encoded data removed]",
      "text/plain": [
       "<Figure size 432x720 with 1 Axes>"
      ]
     },
     "metadata": {
      "needs_background": "light"
     },
     "output_type": "display_data"
    }
   ],
   "source": [
    "plt.figure(figsize=(6, 10))\n",
    "sns.boxplot(x=\"gender\",\n",
    "            y=\"age\",\n",
    "            hue=\"gender\",\n",
    "            data=patient_list[patient_list[\"is_dead\"] == 1])"
   ]
  },
  {
   "cell_type": "markdown",
   "metadata": {},
   "source": [
    "# Recovered data"
   ]
  },
  {
   "cell_type": "code",
   "execution_count": 14,
   "metadata": {
    "ExecuteTime": {
     "end_time": "2020-03-19T12:51:07.892192Z",
     "start_time": "2020-03-19T12:51:07.711165Z"
    }
   },
   "outputs": [],
   "source": [
    "import pandas as pd\n",
    "import io\n",
    "import requests\n",
    "\n",
    "url_confirmed=\"https://raw.githubusercontent.com/CSSEGISandData/COVID-19/master/csse_covid_19_data/csse_covid_19_time_series/time_series_19-covid-Confirmed.csv\"\n",
    "url_recovered=\"https://raw.githubusercontent.com/CSSEGISandData/COVID-19/master/csse_covid_19_data/csse_covid_19_time_series/time_series_19-covid-Recovered.csv\"\n",
    "url_deaths=\"https://raw.githubusercontent.com/CSSEGISandData/COVID-19/master/csse_covid_19_data/csse_covid_19_time_series/time_series_19-covid-Deaths.csv\"\n",
    "\n",
    "confirmed = pd.read_csv(url_confirmed)\n",
    "recovered = pd.read_csv(url_recovered)\n",
    "deaths = pd.read_csv(url_deaths)"
   ]
  },
  {
   "cell_type": "code",
   "execution_count": 25,
   "metadata": {
    "ExecuteTime": {
     "end_time": "2020-03-19T17:31:46.529981Z",
     "start_time": "2020-03-19T17:31:45.961531Z"
    }
   },
   "outputs": [
    {
     "data": {
      "image/png": "[encoded data removed]",
      "text/plain": [
       "<Figure size 720x432 with 1 Axes>"
      ]
     },
     "metadata": {
      "needs_background": "light"
     },
     "output_type": "display_data"
    }
   ],
   "source": [
    "countries =['France','Italy','Germany','Spain','Taiwan*']\n",
    "\n",
    "fig, ax = plt.subplots(1, 1, figsize=(10, 6))\n",
    "\n",
    "for l in countries:\n",
    "    r = recovered[recovered['Country/Region'] == l].iloc[0][4:]\n",
    "    r.index=pd.to_datetime(r.index)\n",
    "    r.name ='recovered '+l\n",
    "    c = confirmed[confirmed['Country/Region'] == l].iloc[0][4:]\n",
    "    c.index=pd.to_datetime(c.index)\n",
    "    c.name ='confirmed '+l\n",
    "    d = deaths[deaths['Country/Region'] == l].iloc[0][4:]\n",
    "    d.index=pd.to_datetime(d.index)\n",
    "    d.name='deaths '+l\n",
    "    \n",
    "    l_data = pd.DataFrame([r]).transpose()\n",
    "    l_data.plot(ax=ax)"
   ]
  },
  {
   "cell_type": "code",
   "execution_count": null,
   "metadata": {},
   "outputs": [],
   "source": []
  }
 ],
 "metadata": {
  "kernelspec": {
   "display_name": "Python 3",
   "language": "python",
   "name": "python3"
  },
  "language_info": {
   "codemirror_mode": {
    "name": "ipython",
    "version": 3
   },
   "file_extension": ".py",
   "mimetype": "text/x-python",
   "name": "python",
   "nbconvert_exporter": "python",
   "pygments_lexer": "ipython3",
   "version": "3.7.6"
  },
  "toc": {
   "base_numbering": 1,
   "nav_menu": {},
   "number_sections": false,
   "sideBar": true,
   "skip_h1_title": false,
   "title_cell": "Table of Contents",
   "title_sidebar": "Contents",
   "toc_cell": false,
   "toc_position": {},
   "toc_section_display": true,
   "toc_window_display": false
  }
 },
 "nbformat": 4,
 "nbformat_minor": 4
}
