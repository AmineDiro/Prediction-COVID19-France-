{
 "cells": [
  {
   "cell_type": "markdown",
   "metadata": {},
   "source": [
    "# Exploratory Data Analysis"
   ]
  },
  {
   "cell_type": "markdown",
   "metadata": {},
   "source": [
    "Importing dataset"
   ]
  },
  {
   "cell_type": "code",
   "execution_count": 3,
   "metadata": {
    "ExecuteTime": {
     "end_time": "2020-03-15T01:27:31.596066Z",
     "start_time": "2020-03-15T01:27:30.792872Z"
    }
   },
   "outputs": [],
   "source": [
    "import numpy as np\n",
    "import pandas as pd\n",
    "import matplotlib.pyplot as plt\n",
    "import seaborn as sns\n",
    "\n",
    "pd.set_option(\"display.max_columns\", None)\n",
    "pd.set_option(\"display.max_rows\", None)\n",
    "%matplotlib inline"
   ]
  },
  {
   "cell_type": "markdown",
   "metadata": {},
   "source": [
    "## Plotting confirmed cases in France vs Italy, China and Singapore"
   ]
  },
  {
   "cell_type": "code",
   "execution_count": 4,
   "metadata": {
    "ExecuteTime": {
     "end_time": "2020-03-15T01:27:33.152255Z",
     "start_time": "2020-03-15T01:27:33.129510Z"
    }
   },
   "outputs": [],
   "source": [
    "ts_confirmed = pd.read_csv(\"DATA/time_series_covid_19_confirmed.csv\")\n",
    "ts_confirmed_new = pd.read_csv(\"Data/time_series_19-covid-Confirmed_new.csv\")"
   ]
  },
  {
   "cell_type": "code",
   "execution_count": 5,
   "metadata": {
    "ExecuteTime": {
     "end_time": "2020-03-15T01:27:33.341578Z",
     "start_time": "2020-03-15T01:27:33.307347Z"
    }
   },
   "outputs": [
    {
     "data": {
      "text/html": [
       "<div>\n",
       "<style scoped>\n",
       "    .dataframe tbody tr th:only-of-type {\n",
       "        vertical-align: middle;\n",
       "    }\n",
       "\n",
       "    .dataframe tbody tr th {\n",
       "        vertical-align: top;\n",
       "    }\n",
       "\n",
       "    .dataframe thead th {\n",
       "        text-align: right;\n",
       "    }\n",
       "</style>\n",
       "<table border=\"1\" class=\"dataframe\">\n",
       "  <thead>\n",
       "    <tr style=\"text-align: right;\">\n",
       "      <th></th>\n",
       "      <th>Province/State</th>\n",
       "      <th>Country/Region</th>\n",
       "      <th>Lat</th>\n",
       "      <th>Long</th>\n",
       "      <th>1/22/20</th>\n",
       "      <th>1/23/20</th>\n",
       "      <th>1/24/20</th>\n",
       "      <th>1/25/20</th>\n",
       "      <th>1/26/20</th>\n",
       "      <th>1/27/20</th>\n",
       "      <th>1/28/20</th>\n",
       "      <th>1/29/20</th>\n",
       "      <th>1/30/20</th>\n",
       "      <th>1/31/20</th>\n",
       "      <th>2/1/20</th>\n",
       "      <th>2/2/20</th>\n",
       "      <th>2/3/20</th>\n",
       "      <th>2/4/20</th>\n",
       "      <th>2/5/20</th>\n",
       "      <th>2/6/20</th>\n",
       "      <th>2/7/20</th>\n",
       "      <th>2/8/20</th>\n",
       "      <th>2/9/20</th>\n",
       "      <th>2/10/20</th>\n",
       "      <th>2/11/20</th>\n",
       "      <th>2/12/20</th>\n",
       "      <th>2/13/20</th>\n",
       "      <th>2/14/20</th>\n",
       "      <th>2/15/20</th>\n",
       "      <th>2/16/20</th>\n",
       "      <th>2/17/20</th>\n",
       "      <th>2/18/20</th>\n",
       "      <th>2/19/20</th>\n",
       "      <th>2/20/20</th>\n",
       "      <th>2/21/20</th>\n",
       "      <th>2/22/20</th>\n",
       "      <th>2/23/20</th>\n",
       "      <th>2/24/20</th>\n",
       "      <th>2/25/20</th>\n",
       "      <th>2/26/20</th>\n",
       "      <th>2/27/20</th>\n",
       "      <th>2/28/20</th>\n",
       "      <th>2/29/20</th>\n",
       "      <th>3/1/20</th>\n",
       "      <th>3/2/20</th>\n",
       "      <th>3/3/20</th>\n",
       "      <th>3/4/20</th>\n",
       "      <th>3/5/20</th>\n",
       "      <th>3/6/20</th>\n",
       "      <th>3/7/20</th>\n",
       "      <th>3/8/20</th>\n",
       "      <th>3/9/20</th>\n",
       "      <th>3/10/20</th>\n",
       "      <th>3/11/20</th>\n",
       "      <th>3/12/20</th>\n",
       "      <th>3/13/20</th>\n",
       "      <th>3/14/20</th>\n",
       "    </tr>\n",
       "  </thead>\n",
       "  <tbody>\n",
       "    <tr>\n",
       "      <th>159</th>\n",
       "      <td>France</td>\n",
       "      <td>France</td>\n",
       "      <td>46.2276</td>\n",
       "      <td>2.2137</td>\n",
       "      <td>0</td>\n",
       "      <td>0</td>\n",
       "      <td>2</td>\n",
       "      <td>3</td>\n",
       "      <td>3</td>\n",
       "      <td>3</td>\n",
       "      <td>4</td>\n",
       "      <td>5</td>\n",
       "      <td>5</td>\n",
       "      <td>5</td>\n",
       "      <td>6</td>\n",
       "      <td>6</td>\n",
       "      <td>6</td>\n",
       "      <td>6</td>\n",
       "      <td>6</td>\n",
       "      <td>6</td>\n",
       "      <td>6</td>\n",
       "      <td>11</td>\n",
       "      <td>11</td>\n",
       "      <td>11</td>\n",
       "      <td>11</td>\n",
       "      <td>11</td>\n",
       "      <td>11</td>\n",
       "      <td>11</td>\n",
       "      <td>12</td>\n",
       "      <td>12</td>\n",
       "      <td>12</td>\n",
       "      <td>12</td>\n",
       "      <td>12</td>\n",
       "      <td>12</td>\n",
       "      <td>12</td>\n",
       "      <td>12</td>\n",
       "      <td>12</td>\n",
       "      <td>12</td>\n",
       "      <td>14</td>\n",
       "      <td>18</td>\n",
       "      <td>38</td>\n",
       "      <td>57</td>\n",
       "      <td>100</td>\n",
       "      <td>130</td>\n",
       "      <td>191</td>\n",
       "      <td>204</td>\n",
       "      <td>285</td>\n",
       "      <td>377</td>\n",
       "      <td>653</td>\n",
       "      <td>949</td>\n",
       "      <td>1126</td>\n",
       "      <td>1209</td>\n",
       "      <td>1784</td>\n",
       "      <td>2281</td>\n",
       "      <td>2281</td>\n",
       "      <td>3661</td>\n",
       "      <td>NaN</td>\n",
       "    </tr>\n",
       "    <tr>\n",
       "      <th>200</th>\n",
       "      <td>St Martin</td>\n",
       "      <td>France</td>\n",
       "      <td>18.0708</td>\n",
       "      <td>-63.0501</td>\n",
       "      <td>0</td>\n",
       "      <td>0</td>\n",
       "      <td>0</td>\n",
       "      <td>0</td>\n",
       "      <td>0</td>\n",
       "      <td>0</td>\n",
       "      <td>0</td>\n",
       "      <td>0</td>\n",
       "      <td>0</td>\n",
       "      <td>0</td>\n",
       "      <td>0</td>\n",
       "      <td>0</td>\n",
       "      <td>0</td>\n",
       "      <td>0</td>\n",
       "      <td>0</td>\n",
       "      <td>0</td>\n",
       "      <td>0</td>\n",
       "      <td>0</td>\n",
       "      <td>0</td>\n",
       "      <td>0</td>\n",
       "      <td>0</td>\n",
       "      <td>0</td>\n",
       "      <td>0</td>\n",
       "      <td>0</td>\n",
       "      <td>0</td>\n",
       "      <td>0</td>\n",
       "      <td>0</td>\n",
       "      <td>0</td>\n",
       "      <td>0</td>\n",
       "      <td>0</td>\n",
       "      <td>0</td>\n",
       "      <td>0</td>\n",
       "      <td>0</td>\n",
       "      <td>0</td>\n",
       "      <td>0</td>\n",
       "      <td>0</td>\n",
       "      <td>0</td>\n",
       "      <td>0</td>\n",
       "      <td>0</td>\n",
       "      <td>0</td>\n",
       "      <td>0</td>\n",
       "      <td>0</td>\n",
       "      <td>0</td>\n",
       "      <td>0</td>\n",
       "      <td>0</td>\n",
       "      <td>0</td>\n",
       "      <td>0</td>\n",
       "      <td>2</td>\n",
       "      <td>2</td>\n",
       "      <td>2</td>\n",
       "      <td>2</td>\n",
       "      <td>2</td>\n",
       "      <td>NaN</td>\n",
       "    </tr>\n",
       "    <tr>\n",
       "      <th>207</th>\n",
       "      <td>Saint Barthelemy</td>\n",
       "      <td>France</td>\n",
       "      <td>17.9000</td>\n",
       "      <td>-62.8333</td>\n",
       "      <td>0</td>\n",
       "      <td>0</td>\n",
       "      <td>0</td>\n",
       "      <td>0</td>\n",
       "      <td>0</td>\n",
       "      <td>0</td>\n",
       "      <td>0</td>\n",
       "      <td>0</td>\n",
       "      <td>0</td>\n",
       "      <td>0</td>\n",
       "      <td>0</td>\n",
       "      <td>0</td>\n",
       "      <td>0</td>\n",
       "      <td>0</td>\n",
       "      <td>0</td>\n",
       "      <td>0</td>\n",
       "      <td>0</td>\n",
       "      <td>0</td>\n",
       "      <td>0</td>\n",
       "      <td>0</td>\n",
       "      <td>0</td>\n",
       "      <td>0</td>\n",
       "      <td>0</td>\n",
       "      <td>0</td>\n",
       "      <td>0</td>\n",
       "      <td>0</td>\n",
       "      <td>0</td>\n",
       "      <td>0</td>\n",
       "      <td>0</td>\n",
       "      <td>0</td>\n",
       "      <td>0</td>\n",
       "      <td>0</td>\n",
       "      <td>0</td>\n",
       "      <td>0</td>\n",
       "      <td>0</td>\n",
       "      <td>0</td>\n",
       "      <td>0</td>\n",
       "      <td>0</td>\n",
       "      <td>0</td>\n",
       "      <td>0</td>\n",
       "      <td>0</td>\n",
       "      <td>0</td>\n",
       "      <td>3</td>\n",
       "      <td>3</td>\n",
       "      <td>3</td>\n",
       "      <td>3</td>\n",
       "      <td>3</td>\n",
       "      <td>1</td>\n",
       "      <td>1</td>\n",
       "      <td>1</td>\n",
       "      <td>1</td>\n",
       "      <td>1</td>\n",
       "      <td>NaN</td>\n",
       "    </tr>\n",
       "    <tr>\n",
       "      <th>408</th>\n",
       "      <td>French Polynesia</td>\n",
       "      <td>France</td>\n",
       "      <td>-17.6797</td>\n",
       "      <td>149.4068</td>\n",
       "      <td>0</td>\n",
       "      <td>0</td>\n",
       "      <td>0</td>\n",
       "      <td>0</td>\n",
       "      <td>0</td>\n",
       "      <td>0</td>\n",
       "      <td>0</td>\n",
       "      <td>0</td>\n",
       "      <td>0</td>\n",
       "      <td>0</td>\n",
       "      <td>0</td>\n",
       "      <td>0</td>\n",
       "      <td>0</td>\n",
       "      <td>0</td>\n",
       "      <td>0</td>\n",
       "      <td>0</td>\n",
       "      <td>0</td>\n",
       "      <td>0</td>\n",
       "      <td>0</td>\n",
       "      <td>0</td>\n",
       "      <td>0</td>\n",
       "      <td>0</td>\n",
       "      <td>0</td>\n",
       "      <td>0</td>\n",
       "      <td>0</td>\n",
       "      <td>0</td>\n",
       "      <td>0</td>\n",
       "      <td>0</td>\n",
       "      <td>0</td>\n",
       "      <td>0</td>\n",
       "      <td>0</td>\n",
       "      <td>0</td>\n",
       "      <td>0</td>\n",
       "      <td>0</td>\n",
       "      <td>0</td>\n",
       "      <td>0</td>\n",
       "      <td>0</td>\n",
       "      <td>0</td>\n",
       "      <td>0</td>\n",
       "      <td>0</td>\n",
       "      <td>0</td>\n",
       "      <td>0</td>\n",
       "      <td>0</td>\n",
       "      <td>0</td>\n",
       "      <td>0</td>\n",
       "      <td>0</td>\n",
       "      <td>0</td>\n",
       "      <td>0</td>\n",
       "      <td>0</td>\n",
       "      <td>0</td>\n",
       "      <td>0</td>\n",
       "      <td>3</td>\n",
       "      <td>NaN</td>\n",
       "    </tr>\n",
       "  </tbody>\n",
       "</table>\n",
       "</div>"
      ],
      "text/plain": [
       "       Province/State Country/Region      Lat      Long  1/22/20  1/23/20  \\\n",
       "159            France         France  46.2276    2.2137        0        0   \n",
       "200         St Martin         France  18.0708  -63.0501        0        0   \n",
       "207  Saint Barthelemy         France  17.9000  -62.8333        0        0   \n",
       "408  French Polynesia         France -17.6797  149.4068        0        0   \n",
       "\n",
       "     1/24/20  1/25/20  1/26/20  1/27/20  1/28/20  1/29/20  1/30/20  1/31/20  \\\n",
       "159        2        3        3        3        4        5        5        5   \n",
       "200        0        0        0        0        0        0        0        0   \n",
       "207        0        0        0        0        0        0        0        0   \n",
       "408        0        0        0        0        0        0        0        0   \n",
       "\n",
       "     2/1/20  2/2/20  2/3/20  2/4/20  2/5/20  2/6/20  2/7/20  2/8/20  2/9/20  \\\n",
       "159       6       6       6       6       6       6       6      11      11   \n",
       "200       0       0       0       0       0       0       0       0       0   \n",
       "207       0       0       0       0       0       0       0       0       0   \n",
       "408       0       0       0       0       0       0       0       0       0   \n",
       "\n",
       "     2/10/20  2/11/20  2/12/20  2/13/20  2/14/20  2/15/20  2/16/20  2/17/20  \\\n",
       "159       11       11       11       11       11       12       12       12   \n",
       "200        0        0        0        0        0        0        0        0   \n",
       "207        0        0        0        0        0        0        0        0   \n",
       "408        0        0        0        0        0        0        0        0   \n",
       "\n",
       "     2/18/20  2/19/20  2/20/20  2/21/20  2/22/20  2/23/20  2/24/20  2/25/20  \\\n",
       "159       12       12       12       12       12       12       12       14   \n",
       "200        0        0        0        0        0        0        0        0   \n",
       "207        0        0        0        0        0        0        0        0   \n",
       "408        0        0        0        0        0        0        0        0   \n",
       "\n",
       "     2/26/20  2/27/20  2/28/20  2/29/20  3/1/20  3/2/20  3/3/20  3/4/20  \\\n",
       "159       18       38       57      100     130     191     204     285   \n",
       "200        0        0        0        0       0       0       0       0   \n",
       "207        0        0        0        0       0       0       0       3   \n",
       "408        0        0        0        0       0       0       0       0   \n",
       "\n",
       "     3/5/20  3/6/20  3/7/20  3/8/20  3/9/20  3/10/20  3/11/20  3/12/20  \\\n",
       "159     377     653     949    1126    1209     1784     2281     2281   \n",
       "200       0       0       0       0       2        2        2        2   \n",
       "207       3       3       3       3       1        1        1        1   \n",
       "408       0       0       0       0       0        0        0        0   \n",
       "\n",
       "     3/13/20  3/14/20  \n",
       "159     3661      NaN  \n",
       "200        2      NaN  \n",
       "207        1      NaN  \n",
       "408        3      NaN  "
      ]
     },
     "execution_count": 5,
     "metadata": {},
     "output_type": "execute_result"
    }
   ],
   "source": [
    "ts_confirmed_new[ts_confirmed_new[\"Country/Region\"] == \"France\"]"
   ]
  },
  {
   "cell_type": "markdown",
   "metadata": {},
   "source": [
    "import pandas_profiling\n",
    "pandas_profiling.ProfileReport(ts_confirmed)"
   ]
  },
  {
   "cell_type": "code",
   "execution_count": 6,
   "metadata": {
    "ExecuteTime": {
     "end_time": "2020-03-15T01:27:35.644663Z",
     "start_time": "2020-03-15T01:27:34.301154Z"
    }
   },
   "outputs": [
    {
     "data": {
      "image/png": "[encoded data removed]",
      "text/plain": [
       "<Figure size 720x720 with 2 Axes>"
      ]
     },
     "metadata": {
      "needs_background": "light"
     },
     "output_type": "display_data"
    }
   ],
   "source": [
    "fig, axs = plt.subplots(2, 1, sharex=True, figsize=(10, 10))\n",
    "axs[0].plot(ts_confirmed.sum()[2:])\n",
    "axs[0].set_ylabel(\"Cases\")\n",
    "axs[1].set_ylabel(\"Cases\")\n",
    "axs[1].set_xlabel(\"time\")\n",
    "axs[1].grid(True)\n",
    "axs[1].set_yscale(\"log\")\n",
    "axs[0].set_yscale(\"log\")\n",
    "\n",
    "axs[1].plot(ts_confirmed[ts_confirmed[\"Country/Region\"] != \"Mainland China\"].sum()[2:])\n",
    "fig.tight_layout()"
   ]
  },
  {
   "cell_type": "markdown",
   "metadata": {},
   "source": [
    "On remarque clairement que nous le reste du monde entre dans la phase exponentiel"
   ]
  },
  {
   "cell_type": "markdown",
   "metadata": {
    "heading_collapsed": true
   },
   "source": [
    "## Construction des series temporels des cas confirmés "
   ]
  },
  {
   "cell_type": "code",
   "execution_count": 9,
   "metadata": {
    "ExecuteTime": {
     "end_time": "2020-03-15T01:28:03.596006Z",
     "start_time": "2020-03-15T01:28:03.546540Z"
    },
    "code_folding": [],
    "hidden": true
   },
   "outputs": [],
   "source": [
    "f_confirmed = ts_confirmed[ts_confirmed[\"Country/Region\"] == \"France\"].sum(axis=0)[2:]\n",
    "i_confirmed = ts_confirmed[ts_confirmed[\"Country/Region\"] == \"Italy\"].sum(axis=0)[4:]\n",
    "c_confirmed = ts_confirmed[ts_confirmed[\"Country/Region\"] == \"Mainland China\"].sum(\n",
    "    axis=0\n",
    ")[4:]\n",
    "sg_confirmed = ts_confirmed[ts_confirmed[\"Country/Region\"] == \"Singapore\"].sum(axis=0)[\n",
    "    4:\n",
    "]\n",
    "ger_confirmed = ts_confirmed[ts_confirmed[\"Country/Region\"] == \"Germany\"].sum(axis=0)[\n",
    "    4:\n",
    "]\n",
    "sp_confirmed = ts_confirmed_new[ts_confirmed_new[\"Country/Region\"] == \"Spain\"].sum(axis=0)[\n",
    "    4:\n",
    "]\n",
    "\n",
    "f_confirmed.index = pd.to_datetime(f_confirmed.index)\n",
    "i_confirmed.index = pd.to_datetime(i_confirmed.index)\n",
    "c_confirmed.index = pd.to_datetime(c_confirmed.index)\n",
    "sg_confirmed.index = pd.to_datetime(sg_confirmed.index)\n",
    "sp_confirmed.index = pd.to_datetime(sp_confirmed.index)\n",
    "ger_confirmed.index = pd.to_datetime(ger_confirmed.index)"
   ]
  },
  {
   "cell_type": "code",
   "execution_count": 10,
   "metadata": {
    "ExecuteTime": {
     "end_time": "2020-03-15T01:28:05.033695Z",
     "start_time": "2020-03-15T01:28:04.265252Z"
    },
    "hidden": true
   },
   "outputs": [
    {
     "data": {
      "text/plain": [
       "<matplotlib.legend.Legend at 0x7fd62f773910>"
      ]
     },
     "execution_count": 10,
     "metadata": {},
     "output_type": "execute_result"
    },
    {
     "data": {
      "image/png": "[encoded data removed]",
      "text/plain": [
       "<Figure size 720x1440 with 1 Axes>"
      ]
     },
     "metadata": {
      "needs_background": "light"
     },
     "output_type": "display_data"
    }
   ],
   "source": [
    "fig = plt.figure(figsize=(10, 20))\n",
    "ax = fig.add_subplot(2, 1, 1)\n",
    "ax.set_yscale(\"log\")\n",
    "\n",
    "f_confirmed.plot(label=\"France\")\n",
    "i_confirmed.plot(label=\"Italy\")\n",
    "c_confirmed.plot(label=\"China\")\n",
    "sg_confirmed.plot(label=\"Singapore\")\n",
    "sp_confirmed.plot(label=\"Spain\")\n",
    "ger_confirmed.plot(marker=\"o\", label=\"Germany\", linestyle=\"\")\n",
    "\n",
    "plt.legend(loc=\"lower right\")"
   ]
  },
  {
   "cell_type": "markdown",
   "metadata": {},
   "source": [
    "## Facteur de changement"
   ]
  },
  {
   "cell_type": "markdown",
   "metadata": {},
   "source": [
    "Le facteur de changement de la courbe est égale au ratio de nouvzaux cas détéctés entredeux jours. Autrement dit, c'est le ratio de la différence de nombres de cas détectés entre deux jours successifs"
   ]
  },
  {
   "cell_type": "code",
   "execution_count": 12,
   "metadata": {
    "ExecuteTime": {
     "end_time": "2020-03-15T01:32:39.454852Z",
     "start_time": "2020-03-15T01:32:39.449686Z"
    }
   },
   "outputs": [],
   "source": [
    "def growth(serie):\n",
    "    g = []\n",
    "    index = []\n",
    "    for i in range(len(f_confirmed) - 2):\n",
    "        if serie.diff()[i] == 0:\n",
    "            g.append(0)\n",
    "        else:\n",
    "            g.append(serie.diff()[i + 1] / serie.diff()[i])\n",
    "        index.append(serie.index[i])\n",
    "    return pd.Series(data=g, index=index).replace([np.inf, -np.inf], np.nan).fillna(0)"
   ]
  },
  {
   "cell_type": "code",
   "execution_count": 13,
   "metadata": {
    "ExecuteTime": {
     "end_time": "2020-03-15T01:32:40.616520Z",
     "start_time": "2020-03-15T01:32:40.276237Z"
    },
    "scrolled": false
   },
   "outputs": [
    {
     "data": {
      "text/plain": [
       "<matplotlib.legend.Legend at 0x7fd62c39cf10>"
      ]
     },
     "execution_count": 13,
     "metadata": {},
     "output_type": "execute_result"
    },
    {
     "data": {
      "image/png": "[encoded data removed]",
      "text/plain": [
       "<Figure size 720x720 with 1 Axes>"
      ]
     },
     "metadata": {
      "needs_background": "light"
     },
     "output_type": "display_data"
    }
   ],
   "source": [
    "fig = plt.figure(figsize=(10, 10))\n",
    "\n",
    "growth(f_confirmed).plot(label=\"France\")\n",
    "#growth(i_confirmed).pct_change().plot(label='Italy')\n",
    "# growth(c_confirmed).pct_change().plot(label='China')\n",
    "#growth(sg_confirmed).pct_change().plot(label=\"Singapore\")\n",
    "\n",
    "plt.legend(loc=\"upper left\")"
   ]
  },
  {
   "cell_type": "markdown",
   "metadata": {},
   "source": [
    "Décaler la courbe des cas de france et d'italie"
   ]
  },
  {
   "cell_type": "code",
   "execution_count": 10,
   "metadata": {},
   "outputs": [
    {
     "data": {
      "text/plain": [
       "<matplotlib.legend.Legend at 0x7f91e32b0290>"
      ]
     },
     "execution_count": 10,
     "metadata": {},
     "output_type": "execute_result"
    },
    {
     "data": {
      "image/png": "[encoded data removed]",
      "text/plain": [
       "<Figure size 1080x1080 with 1 Axes>"
      ]
     },
     "metadata": {
      "needs_background": "light"
     },
     "output_type": "display_data"
    }
   ],
   "source": [
    "ilist = i_confirmed.where(i_confirmed > 0).dropna().tolist()\n",
    "flist = f_confirmed.where(f_confirmed > 0).dropna().tolist()\n",
    "Clist = c_confirmed.where(c_confirmed > 0).dropna().tolist()\n",
    "\n",
    "\n",
    "fig = plt.figure(figsize=(15, 15))\n",
    "ax = fig.add_subplot(2, 1, 1)\n",
    "ax.set_yscale(\"log\")\n",
    "ax.plot(ilist, \"g--\", label=\"Italy\")\n",
    "ax.plot(flist, \"b--\", label=\"France\")\n",
    "ax.plot(Clist, \"r--\", label=\"Chine\")\n",
    "plt.legend(loc=\"upper left\")"
   ]
  },
  {
   "cell_type": "markdown",
   "metadata": {
    "heading_collapsed": true
   },
   "source": [
    "## Remarques"
   ]
  },
  {
   "cell_type": "markdown",
   "metadata": {
    "hidden": true
   },
   "source": [
    "\n",
    "En décalant les deux courbes pour avoir le même début, nous remarquons que les courbes ont la même forme exponentiel, la France a pu retarder l'évolution des cas de COVID19 un peu plus longtemps de l'Italie mais la progression du virus est visuellement la même;\n",
    "\n",
    "**Comme annoncé par le président de la république Macron, l'épidémie en France ne fait que commencer.**"
   ]
  },
  {
   "cell_type": "markdown",
   "metadata": {
    "heading_collapsed": true
   },
   "source": [
    "## Deaths"
   ]
  },
  {
   "cell_type": "code",
   "execution_count": 11,
   "metadata": {
    "hidden": true
   },
   "outputs": [],
   "source": [
    "import plotly.graph_objects as go\n",
    "import plotly.express as px\n",
    "from plotly.subplots import make_subplots"
   ]
  },
  {
   "cell_type": "code",
   "execution_count": 12,
   "metadata": {
    "hidden": true
   },
   "outputs": [],
   "source": [
    "patient_info= pd.read_csv(\"Data/patient-list.csv\")"
   ]
  },
  {
   "cell_type": "code",
   "execution_count": 13,
   "metadata": {
    "hidden": true
   },
   "outputs": [
    {
     "data": {
      "text/html": [
       "<div>\n",
       "<style scoped>\n",
       "    .dataframe tbody tr th:only-of-type {\n",
       "        vertical-align: middle;\n",
       "    }\n",
       "\n",
       "    .dataframe tbody tr th {\n",
       "        vertical-align: top;\n",
       "    }\n",
       "\n",
       "    .dataframe thead th {\n",
       "        text-align: right;\n",
       "    }\n",
       "</style>\n",
       "<table border=\"1\" class=\"dataframe\">\n",
       "  <thead>\n",
       "    <tr style=\"text-align: right;\">\n",
       "      <th></th>\n",
       "      <th>id</th>\n",
       "      <th>case_in_country</th>\n",
       "      <th>reporting date</th>\n",
       "      <th>summary</th>\n",
       "      <th>location</th>\n",
       "      <th>country</th>\n",
       "      <th>gender</th>\n",
       "      <th>age</th>\n",
       "      <th>symptom_onset</th>\n",
       "      <th>If_onset_approximated</th>\n",
       "      <th>hosp_visit_date</th>\n",
       "      <th>international_traveler</th>\n",
       "      <th>domestic_traveler</th>\n",
       "      <th>exposure_start</th>\n",
       "      <th>exposure_end</th>\n",
       "      <th>traveler</th>\n",
       "      <th>visiting Wuhan</th>\n",
       "      <th>from Wuhan</th>\n",
       "      <th>death</th>\n",
       "      <th>recovered</th>\n",
       "      <th>symptom</th>\n",
       "      <th>source</th>\n",
       "      <th>link</th>\n",
       "    </tr>\n",
       "  </thead>\n",
       "  <tbody>\n",
       "    <tr>\n",
       "      <th>0</th>\n",
       "      <td>1</td>\n",
       "      <td>NaN</td>\n",
       "      <td>1/20/2020</td>\n",
       "      <td>First confirmed imported COVID-19 pneumonia pa...</td>\n",
       "      <td>Shenzhen, Guangdong</td>\n",
       "      <td>China</td>\n",
       "      <td>male</td>\n",
       "      <td>66.0</td>\n",
       "      <td>1/3/2020</td>\n",
       "      <td>0.0</td>\n",
       "      <td>1/11/2020</td>\n",
       "      <td>NaN</td>\n",
       "      <td>NaN</td>\n",
       "      <td>12/29/2019</td>\n",
       "      <td>1/4/2020</td>\n",
       "      <td>NaN</td>\n",
       "      <td>1.0</td>\n",
       "      <td>0.0</td>\n",
       "      <td>0</td>\n",
       "      <td>0</td>\n",
       "      <td>NaN</td>\n",
       "      <td>Shenzhen Municipal Health Commission</td>\n",
       "      <td>http://wjw.sz.gov.cn/wzx/202001/t20200120_1898...</td>\n",
       "    </tr>\n",
       "    <tr>\n",
       "      <th>1</th>\n",
       "      <td>1</td>\n",
       "      <td>NaN</td>\n",
       "      <td>1/20/2020</td>\n",
       "      <td>First confirmed imported COVID-19 pneumonia pa...</td>\n",
       "      <td>Shanghai</td>\n",
       "      <td>China</td>\n",
       "      <td>female</td>\n",
       "      <td>56.0</td>\n",
       "      <td>1/15/2020</td>\n",
       "      <td>0.0</td>\n",
       "      <td>1/15/2020</td>\n",
       "      <td>NaN</td>\n",
       "      <td>NaN</td>\n",
       "      <td>NaN</td>\n",
       "      <td>1/12/2020</td>\n",
       "      <td>NaN</td>\n",
       "      <td>0.0</td>\n",
       "      <td>1.0</td>\n",
       "      <td>0</td>\n",
       "      <td>0</td>\n",
       "      <td>NaN</td>\n",
       "      <td>Official Weibo of Shanghai Municipal Health Co...</td>\n",
       "      <td>https://www.weibo.com/2372649470/IqogQhgfa?fro...</td>\n",
       "    </tr>\n",
       "    <tr>\n",
       "      <th>2</th>\n",
       "      <td>2</td>\n",
       "      <td>NaN</td>\n",
       "      <td>1/21/2020</td>\n",
       "      <td>First confirmed imported cases in Zhejiang: pa...</td>\n",
       "      <td>Zhejiang</td>\n",
       "      <td>China</td>\n",
       "      <td>male</td>\n",
       "      <td>46.0</td>\n",
       "      <td>1/4/2020</td>\n",
       "      <td>0.0</td>\n",
       "      <td>1/17/2020</td>\n",
       "      <td>NaN</td>\n",
       "      <td>NaN</td>\n",
       "      <td>NaN</td>\n",
       "      <td>1/3/2020</td>\n",
       "      <td>NaN</td>\n",
       "      <td>0.0</td>\n",
       "      <td>1.0</td>\n",
       "      <td>0</td>\n",
       "      <td>0</td>\n",
       "      <td>NaN</td>\n",
       "      <td>Health Commission of Zhejiang Province</td>\n",
       "      <td>http://www.zjwjw.gov.cn/art/2020/1/21/art_1202...</td>\n",
       "    </tr>\n",
       "    <tr>\n",
       "      <th>3</th>\n",
       "      <td>3</td>\n",
       "      <td>NaN</td>\n",
       "      <td>1/21/2020</td>\n",
       "      <td>new confirmed imported COVID-19 pneumonia in T...</td>\n",
       "      <td>Tianjin</td>\n",
       "      <td>China</td>\n",
       "      <td>female</td>\n",
       "      <td>60.0</td>\n",
       "      <td>NaN</td>\n",
       "      <td>NaN</td>\n",
       "      <td>1/19/2020</td>\n",
       "      <td>NaN</td>\n",
       "      <td>NaN</td>\n",
       "      <td>NaN</td>\n",
       "      <td>NaN</td>\n",
       "      <td>NaN</td>\n",
       "      <td>1.0</td>\n",
       "      <td>0.0</td>\n",
       "      <td>0</td>\n",
       "      <td>0</td>\n",
       "      <td>NaN</td>\n",
       "      <td>人民日报官方微博</td>\n",
       "      <td>https://m.weibo.cn/status/4463235401268457?</td>\n",
       "    </tr>\n",
       "    <tr>\n",
       "      <th>4</th>\n",
       "      <td>4</td>\n",
       "      <td>NaN</td>\n",
       "      <td>1/21/2020</td>\n",
       "      <td>new confirmed imported COVID-19 pneumonia in T...</td>\n",
       "      <td>Tianjin</td>\n",
       "      <td>China</td>\n",
       "      <td>male</td>\n",
       "      <td>58.0</td>\n",
       "      <td>NaN</td>\n",
       "      <td>NaN</td>\n",
       "      <td>1/14/2020</td>\n",
       "      <td>NaN</td>\n",
       "      <td>NaN</td>\n",
       "      <td>NaN</td>\n",
       "      <td>NaN</td>\n",
       "      <td>NaN</td>\n",
       "      <td>0.0</td>\n",
       "      <td>0.0</td>\n",
       "      <td>0</td>\n",
       "      <td>0</td>\n",
       "      <td>NaN</td>\n",
       "      <td>人民日报官方微博</td>\n",
       "      <td>https://m.weibo.cn/status/4463235401268457?</td>\n",
       "    </tr>\n",
       "  </tbody>\n",
       "</table>\n",
       "</div>"
      ],
      "text/plain": [
       "   id  case_in_country reporting date  \\\n",
       "0   1              NaN      1/20/2020   \n",
       "1   1              NaN      1/20/2020   \n",
       "2   2              NaN      1/21/2020   \n",
       "3   3              NaN      1/21/2020   \n",
       "4   4              NaN      1/21/2020   \n",
       "\n",
       "                                             summary             location  \\\n",
       "0  First confirmed imported COVID-19 pneumonia pa...  Shenzhen, Guangdong   \n",
       "1  First confirmed imported COVID-19 pneumonia pa...             Shanghai   \n",
       "2  First confirmed imported cases in Zhejiang: pa...             Zhejiang   \n",
       "3  new confirmed imported COVID-19 pneumonia in T...              Tianjin   \n",
       "4  new confirmed imported COVID-19 pneumonia in T...              Tianjin   \n",
       "\n",
       "  country  gender   age symptom_onset  If_onset_approximated hosp_visit_date  \\\n",
       "0   China    male  66.0      1/3/2020                    0.0       1/11/2020   \n",
       "1   China  female  56.0     1/15/2020                    0.0       1/15/2020   \n",
       "2   China    male  46.0      1/4/2020                    0.0       1/17/2020   \n",
       "3   China  female  60.0           NaN                    NaN       1/19/2020   \n",
       "4   China    male  58.0           NaN                    NaN       1/14/2020   \n",
       "\n",
       "   international_traveler  domestic_traveler exposure_start exposure_end  \\\n",
       "0                     NaN                NaN     12/29/2019     1/4/2020   \n",
       "1                     NaN                NaN            NaN    1/12/2020   \n",
       "2                     NaN                NaN            NaN     1/3/2020   \n",
       "3                     NaN                NaN            NaN          NaN   \n",
       "4                     NaN                NaN            NaN          NaN   \n",
       "\n",
       "   traveler  visiting Wuhan  from Wuhan death recovered symptom  \\\n",
       "0       NaN             1.0         0.0     0         0     NaN   \n",
       "1       NaN             0.0         1.0     0         0     NaN   \n",
       "2       NaN             0.0         1.0     0         0     NaN   \n",
       "3       NaN             1.0         0.0     0         0     NaN   \n",
       "4       NaN             0.0         0.0     0         0     NaN   \n",
       "\n",
       "                                              source  \\\n",
       "0               Shenzhen Municipal Health Commission   \n",
       "1  Official Weibo of Shanghai Municipal Health Co...   \n",
       "2             Health Commission of Zhejiang Province   \n",
       "3                                           人民日报官方微博   \n",
       "4                                           人民日报官方微博   \n",
       "\n",
       "                                                link  \n",
       "0  http://wjw.sz.gov.cn/wzx/202001/t20200120_1898...  \n",
       "1  https://www.weibo.com/2372649470/IqogQhgfa?fro...  \n",
       "2  http://www.zjwjw.gov.cn/art/2020/1/21/art_1202...  \n",
       "3        https://m.weibo.cn/status/4463235401268457?  \n",
       "4        https://m.weibo.cn/status/4463235401268457?  "
      ]
     },
     "execution_count": 13,
     "metadata": {},
     "output_type": "execute_result"
    }
   ],
   "source": [
    "patient_info.head()"
   ]
  },
  {
   "cell_type": "code",
   "execution_count": 14,
   "metadata": {
    "hidden": true
   },
   "outputs": [],
   "source": [
    "patient_info.groupby(\"gender\").count()\n",
    "patient_info[\"recovered\"].fillna(\"0\", inplace=True)"
   ]
  },
  {
   "cell_type": "code",
   "execution_count": 15,
   "metadata": {
    "hidden": true
   },
   "outputs": [],
   "source": [
    "import re\n",
    "\n",
    "\n",
    "def is_date(value):\n",
    "    \"\"\"\n",
    "    Returns a boolean indicating whether a given value is a date.\n",
    "    \"\"\"\n",
    "    regex = re.compile(r\"\\d{1,2}/\\d{1,2}/\\d{4}\")\n",
    "    return bool(regex.match(value))"
   ]
  },
  {
   "cell_type": "code",
   "execution_count": null,
   "metadata": {
    "hidden": true
   },
   "outputs": [],
   "source": [
    "patient_info[\"clean_recovered\"] = patient_info[\"recovered\"].apply(\n",
    "    lambda x: \"1\" if is_date(x) else x\n",
    ")\n",
    "patient_info[\"clean_recovered\"] = patient_info[\"clean_recovered\"].astype(\"category\")\n",
    "patient_info[\"clean_death\"] = patient_info[\"death\"].apply(\n",
    "    lambda x: \"1\" if is_date(x) else x\n",
    ")\n",
    "patient_info[\"clean_death\"] = patient_info[\"clean_death\"].astype(\"category\")"
   ]
  },
  {
   "cell_type": "code",
   "execution_count": null,
   "metadata": {
    "hidden": true
   },
   "outputs": [],
   "source": [
    "rec_age_fig = make_subplots(\n",
    "    rows=1, cols=2, subplot_titles=(\"Age vs. Recovered\", \"Age vs. Death\")\n",
    ")\n",
    "\n",
    "rec_age_fig.add_trace(\n",
    "    go.Box(x=patient_info[\"clean_recovered\"], y=patient_info[\"age\"], name=\"Recovered\"),\n",
    "    row=1,\n",
    "    col=1,\n",
    ")\n",
    "rec_age_fig.add_trace(\n",
    "    go.Box(x=patient_info[\"clean_death\"], y=patient_info[\"age\"], name=\"Death\"),\n",
    "    row=1,\n",
    "    col=2,\n",
    ")\n",
    "rec_age_fig.update_traces(boxpoints=\"all\")\n",
    "rec_age_fig.update_layout(\n",
    "    title_text=\"Subplots of age in relation to recovery and death\"\n",
    ")\n",
    "rec_age_fig.show()"
   ]
  },
  {
   "cell_type": "markdown",
   "metadata": {
    "heading_collapsed": true,
    "toc-hr-collapsed": true
   },
   "source": [
    "# Linear Regression"
   ]
  },
  {
   "cell_type": "markdown",
   "metadata": {
    "hidden": true
   },
   "source": [
    "## Constuction des datas"
   ]
  },
  {
   "attachments": {
    "image.png": {
     "image/png": "[encoded data removed]"
    }
   },
   "cell_type": "markdown",
   "metadata": {
    "hidden": true
   },
   "source": [
    "On construit la matrice X qui représente les **w intervals** depuis le début de notre série temporelle à la fin de la série temporelle.\n",
    "\n",
    "Cette matrice historise les valeurs de la série tempoerelle et est utilisé pour prédire les prochaines valeurs de la série $ỹ$ :\n",
    "![image.png](attachment:image.png)\n"
   ]
  },
  {
   "cell_type": "code",
   "execution_count": 17,
   "metadata": {
    "hidden": true
   },
   "outputs": [],
   "source": [
    "start = 10\n",
    "middle = len(i_confirmed) - 10\n",
    "end = len(i_confirmed) - 1"
   ]
  },
  {
   "cell_type": "code",
   "execution_count": 18,
   "metadata": {
    "hidden": true
   },
   "outputs": [
    {
     "data": {
      "text/plain": [
       "<matplotlib.legend.Legend at 0x7f91e1c1a5d0>"
      ]
     },
     "execution_count": 18,
     "metadata": {},
     "output_type": "execute_result"
    },
    {
     "data": {
      "image/png": "[encoded data removed]",
      "text/plain": [
       "<Figure size 576x720 with 1 Axes>"
      ]
     },
     "metadata": {
      "needs_background": "light"
     },
     "output_type": "display_data"
    }
   ],
   "source": [
    "fig, ax = plt.subplots(figsize=(8, 10))\n",
    "\n",
    "window = 6\n",
    "\n",
    "for i in range(8):\n",
    "\n",
    "    full = i_confirmed[start:end]\n",
    "    train = i_confirmed[middle - i - window : middle - i]\n",
    "    predict = i_confirmed[middle - i : middle - i + 1]\n",
    "\n",
    "    (full + 2 * i).plot(ax=ax, c=\"grey\", alpha=0.3)\n",
    "    (train + 2 * i).plot(ax=ax, c=\"c\", markersize=4, marker=\"o\")\n",
    "    (predict + 2 * i).plot(ax=ax, c=\"r\", markersize=8, marker=\"o\", linestyle=\"\")\n",
    "\n",
    "\n",
    "ax.get_yaxis().set_ticks([])\n",
    "ax.set_yscale(\"log\")\n",
    "\n",
    "ax.legend([\"full time series\", \"$\\mathbf{X}$\", \"$y$\"], bbox_to_anchor=(1, 1))"
   ]
  },
  {
   "cell_type": "code",
   "execution_count": 19,
   "metadata": {
    "hidden": true
   },
   "outputs": [],
   "source": [
    "window = 5\n",
    "num_samples = 10\n",
    "X_mat = []\n",
    "y_mat = []\n",
    "for i in range(num_samples):\n",
    "    # Slice a window of features\n",
    "    X_mat.append(i_confirmed[middle - i - window : middle - i].values)\n",
    "    y_mat.append(i_confirmed[middle - i : middle - i + 1].values)\n",
    "\n",
    "X_mat = np.vstack(X_mat)\n",
    "y_mat = np.concatenate(y_mat)"
   ]
  },
  {
   "cell_type": "code",
   "execution_count": 20,
   "metadata": {
    "hidden": true
   },
   "outputs": [],
   "source": [
    "from sklearn.linear_model import LinearRegression\n",
    "from sklearn.metrics import r2_score\n",
    "\n",
    "lr = LinearRegression(fit_intercept=False)\n",
    "lr = lr.fit(X_mat, y_mat)"
   ]
  },
  {
   "cell_type": "code",
   "execution_count": 21,
   "metadata": {
    "hidden": true
   },
   "outputs": [
    {
     "data": {
      "image/png": "[encoded data removed]",
      "text/plain": [
       "<Figure size 432x432 with 1 Axes>"
      ]
     },
     "metadata": {
      "needs_background": "light"
     },
     "output_type": "display_data"
    }
   ],
   "source": [
    "y_pred = lr.predict(X_mat)\n",
    "\n",
    "fig, ax = plt.subplots(figsize=(6, 6))\n",
    "\n",
    "ax.scatter(y_pred, y_mat)\n",
    "\n",
    "one_to_one = np.arange(y_mat.min() - 2, y_mat.max() + 2)\n",
    "ax.plot(one_to_one, one_to_one, c=\"r\", linestyle=\"--\")\n",
    "\n",
    "ax.set_xlim((one_to_one[0], one_to_one[-1]))\n",
    "ax.set_ylim((one_to_one[0], one_to_one[-1]))\n",
    "ax.set_xlabel(\"Predicted\")\n",
    "ax.set_ylabel(\"True\")\n",
    "ax.set_title(f\"$R^{2}$ = {r2_score(y_mat, y_pred):3.2f}\");"
   ]
  },
  {
   "cell_type": "markdown",
   "metadata": {
    "heading_collapsed": true,
    "toc-hr-collapsed": false
   },
   "source": [
    "# LSTM trained on french data"
   ]
  },
  {
   "cell_type": "code",
   "execution_count": 22,
   "metadata": {
    "hidden": true
   },
   "outputs": [],
   "source": [
    "import math\n",
    "from datetime import timedelta\n",
    "from keras.models import Sequential\n",
    "from keras.layers import Dense\n",
    "from keras.layers import LSTM\n",
    "from sklearn.preprocessing import MinMaxScaler, StandardScaler\n",
    "from sklearn.metrics import mean_squared_error"
   ]
  },
  {
   "cell_type": "markdown",
   "metadata": {
    "hidden": true
   },
   "source": [
    "## Preparing the data"
   ]
  },
  {
   "cell_type": "code",
   "execution_count": 23,
   "metadata": {
    "hidden": true
   },
   "outputs": [],
   "source": [
    "# split a univariate sequence into samples\n",
    "def split_sequence(sequence, n_steps):\n",
    "    X, y = list(), list()\n",
    "    for i in range(len(sequence)):\n",
    "        # find the end of this pattern\n",
    "        end_ix = i + n_steps\n",
    "        # check if we are beyond the sequence\n",
    "        if end_ix > len(sequence) - 1:\n",
    "            break\n",
    "        # gather input and output parts of the pattern\n",
    "        seq_x, seq_y = sequence[i:end_ix], sequence[end_ix]\n",
    "        X.append(seq_x)\n",
    "        y.append(seq_y)\n",
    "    return np.asarray(X), np.asarray(y)"
   ]
  },
  {
   "cell_type": "code",
   "execution_count": 24,
   "metadata": {
    "hidden": true
   },
   "outputs": [],
   "source": [
    "# define input sequence\n",
    "# choose a number of time steps ( equivalent to # of features)\n",
    "n_steps = 10\n",
    "\n",
    "X, y = split_sequence(f_confirmed, n_steps)"
   ]
  },
  {
   "cell_type": "markdown",
   "metadata": {
    "hidden": true
   },
   "source": [
    "## LSTM Model"
   ]
  },
  {
   "cell_type": "code",
   "execution_count": 25,
   "metadata": {
    "hidden": true
   },
   "outputs": [
    {
     "data": {
      "image/png": "[encoded data removed]",
      "text/plain": [
       "<Figure size 432x288 with 1 Axes>"
      ]
     },
     "metadata": {
      "needs_background": "light"
     },
     "output_type": "display_data"
    }
   ],
   "source": [
    "n_features = 1\n",
    "\n",
    "X = X.reshape((X.shape[0], X.shape[1], n_features))\n",
    "\n",
    "# define model\n",
    "model = Sequential()\n",
    "model.add(LSTM(50, activation=\"relu\", input_shape=(n_steps, n_features)))\n",
    "model.add(Dense(1))\n",
    "model.compile(optimizer=\"adam\", loss=\"mse\")\n",
    "\n",
    "\n",
    "# fit model\n",
    "history = model.fit(X, y, epochs=200, verbose=0)\n",
    "\n",
    "# history for loss\n",
    "plt.plot(history.history[\"loss\"])\n",
    "plt.title(\"model loss\")\n",
    "plt.ylabel(\"loss\")\n",
    "plt.xlabel(\"epoch\")\n",
    "plt.legend([\"train\", \"test\"], loc=\"upper left\")\n",
    "plt.show()"
   ]
  },
  {
   "cell_type": "markdown",
   "metadata": {
    "hidden": true,
    "toc-hr-collapsed": false
   },
   "source": [
    "## Prediction"
   ]
  },
  {
   "cell_type": "markdown",
   "metadata": {
    "hidden": true
   },
   "source": [
    "Prédire l'évoltion des cas de COVID19 en France sur le prochains 30 jours"
   ]
  },
  {
   "cell_type": "code",
   "execution_count": 26,
   "metadata": {
    "hidden": true
   },
   "outputs": [],
   "source": [
    "n = 20\n",
    "index30 = pd.date_range(f_confirmed.index[-1] + timedelta(days=1), periods=n, freq=\"D\")\n",
    "last_values = f_confirmed[-n_steps:].values\n",
    "prediction30 = []"
   ]
  },
  {
   "cell_type": "code",
   "execution_count": 27,
   "metadata": {
    "hidden": true
   },
   "outputs": [],
   "source": [
    "for i in range(n):\n",
    "    x_input = last_values[-n_steps:]\n",
    "    x_input = x_input.reshape((1, n_steps, n_features))\n",
    "    y_pred = model.predict(x_input)\n",
    "    prediction30.append(int(y_pred[0][0]))\n",
    "    last_values = np.append(last_values, int(y_pred[0][0]))\n",
    "\n",
    "serie30 = pd.Series(data=prediction30, index=index30)"
   ]
  },
  {
   "cell_type": "code",
   "execution_count": 28,
   "metadata": {
    "hidden": true
   },
   "outputs": [
    {
     "data": {
      "text/plain": [
       "<matplotlib.axes._subplots.AxesSubplot at 0x7f91c40a3790>"
      ]
     },
     "execution_count": 28,
     "metadata": {},
     "output_type": "execute_result"
    },
    {
     "data": {
      "image/png": "[encoded data removed]",
      "text/plain": [
       "<Figure size 1080x1080 with 1 Axes>"
      ]
     },
     "metadata": {
      "needs_background": "light"
     },
     "output_type": "display_data"
    }
   ],
   "source": [
    "fig = plt.figure(figsize=(15, 15))\n",
    "ax = fig.add_subplot(2, 1, 1)\n",
    "\n",
    "\n",
    "ax.set_yscale('log')\n",
    "\n",
    "f_confirmed_new = ts_confirmed_new[ts_confirmed_new[\"Country/Region\"] == \"France\"].sum(axis=0)[4:-1]\n",
    "f_confirmed_new.index = pd.to_datetime(f_confirmed_new.index)\n",
    "\n",
    "\n",
    "\n",
    "f_confirmed_new.plot(ax=ax, label=\"france_new\",marker='o',linestyle='')\n",
    "f_confirmed.plot(ax=ax, label=\"france\")\n",
    "c_confirmed.plot(ax=ax, c=\"red\", label=\"China\")\n",
    "\n",
    "serie30.plot(ax=ax, c=\"grey\", linestyle=\"--\", label=\"predition for 30 days\")"
   ]
  },
  {
   "cell_type": "code",
   "execution_count": 31,
   "metadata": {
    "hidden": true,
    "scrolled": true
   },
   "outputs": [
    {
     "data": {
      "text/plain": [
       "2020-03-12      2191\n",
       "2020-03-13      3542\n",
       "2020-03-14      5669\n",
       "2020-03-15      7484\n",
       "2020-03-16     12053\n",
       "2020-03-17     14284\n",
       "2020-03-18     17393\n",
       "2020-03-19     22448\n",
       "2020-03-20     26236\n",
       "2020-03-21     28831\n",
       "2020-03-22     46328\n",
       "2020-03-23     73963\n",
       "2020-03-24     99281\n",
       "2020-03-25    130731\n",
       "2020-03-26    173701\n",
       "2020-03-27    221200\n",
       "2020-03-28    321511\n",
       "2020-03-29    320018\n",
       "2020-03-30    405281\n",
       "2020-03-31    515243\n",
       "Freq: D, dtype: int64"
      ]
     },
     "execution_count": 31,
     "metadata": {},
     "output_type": "execute_result"
    }
   ],
   "source": [
    "serie30['2020-03']"
   ]
  },
  {
   "cell_type": "markdown",
   "metadata": {
    "heading_collapsed": true,
    "toc-hr-collapsed": true
   },
   "source": [
    "# LSTM used for china data"
   ]
  },
  {
   "cell_type": "markdown",
   "metadata": {
    "hidden": true
   },
   "source": [
    "## Prepare train data"
   ]
  },
  {
   "cell_type": "code",
   "execution_count": null,
   "metadata": {
    "hidden": true
   },
   "outputs": [],
   "source": [
    "# define input sequence\n",
    "# choose a number of time steps ( equivalent to # of features)\n",
    "n_steps = 3\n",
    "X, y = split_sequence(c_confirmed[:-1], n_steps)\n",
    "\n",
    "n_features = 1\n",
    "\n",
    "# scaler = StandardScaler()\n",
    "# trainX = scaler.fit_transform(X)\n",
    "#\n",
    "# trainX = trainX.reshape((trainX.shape[0], trainX.shape[1], n_features))\n",
    "\n",
    "X = X.reshape((X.shape[0], X.shape[1], n_features))"
   ]
  },
  {
   "cell_type": "markdown",
   "metadata": {
    "hidden": true
   },
   "source": [
    "## Define model"
   ]
  },
  {
   "cell_type": "code",
   "execution_count": null,
   "metadata": {
    "hidden": true
   },
   "outputs": [],
   "source": [
    "# define model\n",
    "model = Sequential()\n",
    "model.add(LSTM(50, activation=\"relu\", input_shape=(n_steps, n_features)))\n",
    "model.add(Dense(1))\n",
    "model.compile(optimizer=\"adam\", loss=\"mse\")\n",
    "\n",
    "\n",
    "# fit model\n",
    "history = model.fit(X, y, epochs=300, verbose=0)\n",
    "\n",
    "# history for loss\n",
    "plt.plot(history.history[\"loss\"])\n",
    "plt.title(\"model loss\")\n",
    "plt.ylabel(\"loss\")\n",
    "plt.xlabel(\"epoch\")\n",
    "plt.legend([\"train\", \"test\"], loc=\"upper left\")\n",
    "plt.show()"
   ]
  },
  {
   "cell_type": "markdown",
   "metadata": {
    "hidden": true
   },
   "source": [
    "## Prediction"
   ]
  },
  {
   "cell_type": "code",
   "execution_count": null,
   "metadata": {
    "hidden": true
   },
   "outputs": [],
   "source": [
    "n = 60\n",
    "index30 = pd.date_range(f_confirmed.index[-1] + timedelta(days=1), periods=n, freq=\"D\")\n",
    "last_values = f_confirmed[-n_steps:].values\n",
    "prediction30 = []\n",
    "\n",
    "\n",
    "for i in range(n):\n",
    "    x_input = last_values[-n_steps:]\n",
    "    # Scale input\n",
    "    x_input = x_input.reshape((1, n_steps))\n",
    "    # x_input = scaler.transform(x_input)\n",
    "    x_input = x_input.reshape((1, n_steps, n_features))\n",
    "    # invert predictions\n",
    "    # trainPredict = scaler.inverse_transform(trainPredict)\n",
    "    # trainY = scaler.inverse_transform([trainY])\n",
    "    y_pred = model.predict(x_input)\n",
    "    prediction30.append(int(y_pred[0][0]))\n",
    "    last_values = np.append(last_values, int(y_pred[0][0]))\n",
    "\n",
    "serie30 = pd.Series(data=prediction30, index=index30)\n",
    "\n",
    "\n",
    "fig = plt.figure(figsize=(15, 15))\n",
    "ax = fig.add_subplot(2, 1, 1)\n",
    "\n",
    "ax.set_yscale(\"log\")\n",
    "\n",
    "f_confirmed.plot(ax=ax, label=\"france\")\n",
    "c_confirmed.plot(ax=ax, c=\"red\", label=\"China\")\n",
    "\n",
    "serie30.plot(ax=ax, c=\"grey\", linestyle=\"--\", label=\"predition for 30 days\")"
   ]
  },
  {
   "cell_type": "markdown",
   "metadata": {
    "hidden": true
   },
   "source": [
    "**Note : To do demain**\n",
    "\n",
    "kan nferge3 had lblane b exp\n",
    "\n",
    "* Deaths analyses\n",
    "* Reessayer LSTM for china data\n",
    "\n",
    "Li na9ess :\n",
    "\n",
    "* chi EDA tkoun mezyana : death analysis, \n",
    "* Ajouter des datas pour prédiction de l'épidémie\n",
    "* nkteb 3la l'exponentiel kifach kat tkhdem  et la fonction logistique\n",
    "* nchouf chnou darou nass 3la l'Italie "
   ]
  }
 ],
 "metadata": {
  "kernelspec": {
   "display_name": "Python 3",
   "language": "python",
   "name": "python3"
  },
  "language_info": {
   "codemirror_mode": {
    "name": "ipython",
    "version": 3
   },
   "file_extension": ".py",
   "mimetype": "text/x-python",
   "name": "python",
   "nbconvert_exporter": "python",
   "pygments_lexer": "ipython3",
   "version": "3.7.6"
  },
  "toc": {
   "base_numbering": 1,
   "nav_menu": {},
   "number_sections": false,
   "sideBar": true,
   "skip_h1_title": false,
   "title_cell": "Table of Contents",
   "title_sidebar": "Contents",
   "toc_cell": false,
   "toc_position": {
    "height": "calc(100% - 180px)",
    "left": "10px",
    "top": "150px",
    "width": "318px"
   },
   "toc_section_display": true,
   "toc_window_display": true
  },
  "toc-showmarkdowntxt": false
 },
 "nbformat": 4,
 "nbformat_minor": 4
}
